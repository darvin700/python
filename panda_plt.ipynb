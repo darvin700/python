{
  "nbformat": 4,
  "nbformat_minor": 0,
  "metadata": {
    "colab": {
      "name": "Untitled3.ipynb",
      "provenance": [],
      "authorship_tag": "ABX9TyPhhbERJTrWR6lU3nzZbixr",
      "include_colab_link": true
    },
    "kernelspec": {
      "name": "python3",
      "display_name": "Python 3"
    },
    "language_info": {
      "name": "python"
    }
  },
  "cells": [
    {
      "cell_type": "markdown",
      "metadata": {
        "id": "view-in-github",
        "colab_type": "text"
      },
      "source": [
        "<a href=\"https://colab.research.google.com/github/darvin700/python/blob/main/panda_plt.ipynb\" target=\"_parent\"><img src=\"https://colab.research.google.com/assets/colab-badge.svg\" alt=\"Open In Colab\"/></a>"
      ]
    },
    {
      "cell_type": "code",
      "metadata": {
        "colab": {
          "base_uri": "https://localhost:8080/",
          "height": 367
        },
        "id": "U-fEMJhbadIg",
        "outputId": "7c2c5e40-aa04-494c-a355-297d546ba280"
      },
      "source": [
        "import pandas \n",
        "import numpy as np\n",
        "import matplotlib.pyplot as plt\n",
        "import seaborn as seb\n",
        "\n",
        "#dat = pandas.read_csv(\"C:\\Python\\Book1.xlsx\")\n",
        "\n",
        "a=np.array([[2,4,6,8],[1,3,5,7]])\n",
        "print(a)\n",
        "plt.plot(a)\n"
      ],
      "execution_count": 7,
      "outputs": [
        {
          "output_type": "stream",
          "text": [
            "[[2 4 6 8]\n",
            " [1 3 5 7]]\n"
          ],
          "name": "stdout"
        },
        {
          "output_type": "execute_result",
          "data": {
            "text/plain": [
              "[<matplotlib.lines.Line2D at 0x7ff79ec226d0>,\n",
              " <matplotlib.lines.Line2D at 0x7ff79ebd3750>,\n",
              " <matplotlib.lines.Line2D at 0x7ff79ebd3c50>,\n",
              " <matplotlib.lines.Line2D at 0x7ff79ecb2e10>]"
            ]
          },
          "metadata": {
            "tags": []
          },
          "execution_count": 7
        },
        {
          "output_type": "display_data",
          "data": {
            "image/png": "[encoded data removed]",
            "text/plain": [
              "<Figure size 432x288 with 1 Axes>"
            ]
          },
          "metadata": {
            "tags": [],
            "needs_background": "light"
          }
        }
      ]
    }
  ]
}